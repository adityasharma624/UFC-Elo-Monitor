{
 "cells": [
  {
   "cell_type": "code",
   "execution_count": 2,
   "metadata": {},
   "outputs": [],
   "source": [
    "import pandas as pd\n",
    "import numpy as np"
   ]
  },
  {
   "cell_type": "code",
   "execution_count": 3,
   "metadata": {},
   "outputs": [
    {
     "name": "stdout",
     "output_type": "stream",
     "text": [
      "0                                   KO/TKO\n",
      "1                                      SUB\n",
      "2                                    U-DEC\n",
      "3                                    U-DEC\n",
      "4                                   KO/TKO\n",
      "                       ...                \n",
      "7901                                KO/TKO\n",
      "7902    SUB\\n\\n      \\n\\n        Heel Hook\n",
      "7903        SUB\\n\\n      \\n\\n        Other\n",
      "7904                                KO/TKO\n",
      "7905      KO/TKO\\n\\n      \\n\\n        Kick\n",
      "Name: method, Length: 7906, dtype: object\n"
     ]
    }
   ],
   "source": [
    "df = pd.read_csv(\"../data/raw/ufc_fights_historical_data.csv\")\n",
    "print(df['method'])"
   ]
  },
  {
   "cell_type": "code",
   "execution_count": 4,
   "metadata": {},
   "outputs": [
    {
     "name": "stdout",
     "output_type": "stream",
     "text": [
      "0       KO/TKO\n",
      "1          SUB\n",
      "2        U-DEC\n",
      "3        U-DEC\n",
      "4       KO/TKO\n",
      "         ...  \n",
      "7901    KO/TKO\n",
      "7902       SUB\n",
      "7903       SUB\n",
      "7904    KO/TKO\n",
      "7905    KO/TKO\n",
      "Name: method, Length: 7906, dtype: object\n"
     ]
    }
   ],
   "source": [
    "df['method'] = df['method'].str.split('\\n').str[0]\n",
    "print(df['method'])"
   ]
  },
  {
   "cell_type": "code",
   "execution_count": 5,
   "metadata": {},
   "outputs": [
    {
     "name": "stdout",
     "output_type": "stream",
     "text": [
      "event        0\n",
      "fighter_1    0\n",
      "fighter_2    0\n",
      "result       0\n",
      "method       0\n",
      "round        0\n",
      "time         0\n",
      "dtype: int64\n"
     ]
    }
   ],
   "source": [
    "print(df.isnull().sum())"
   ]
  },
  {
   "cell_type": "code",
   "execution_count": 6,
   "metadata": {},
   "outputs": [
    {
     "name": "stdout",
     "output_type": "stream",
     "text": [
      "count                  7906\n",
      "unique                  710\n",
      "top       UFC 2: No Way Out\n",
      "freq                     15\n",
      "Name: event, dtype: object\n"
     ]
    }
   ],
   "source": [
    "print(df['event'].describe())"
   ]
  },
  {
   "cell_type": "code",
   "execution_count": 7,
   "metadata": {},
   "outputs": [
    {
     "name": "stdout",
     "output_type": "stream",
     "text": [
      "                              event         fighter_1         fighter_2  \\\n",
      "0     UFC 308: Topuria vs. Holloway      Ilia Topuria      Max Holloway   \n",
      "1     UFC 308: Topuria vs. Holloway   Khamzat Chimaev  Robert Whittaker   \n",
      "2     UFC 308: Topuria vs. Holloway  Magomed Ankalaev  Aleksandar Rakic   \n",
      "3     UFC 308: Topuria vs. Holloway     Lerone Murphy           Dan Ige   \n",
      "4     UFC 308: Topuria vs. Holloway   Shara Magomedov   Armen Petrosyan   \n",
      "...                             ...               ...               ...   \n",
      "7901           UFC 1: The Beginning    Gerard Gordeau      Kevin Rosier   \n",
      "7902           UFC 1: The Beginning      Ken Shamrock     Patrick Smith   \n",
      "7903           UFC 1: The Beginning      Royce Gracie     Art Jimmerson   \n",
      "7904           UFC 1: The Beginning      Kevin Rosier      Zane Frazier   \n",
      "7905           UFC 1: The Beginning    Gerard Gordeau        Teila Tuli   \n",
      "\n",
      "     result  method  round  time  \n",
      "0       win  KO/TKO      3  1:34  \n",
      "1       win     SUB      1  3:34  \n",
      "2       win   U-DEC      3  5:00  \n",
      "3       win   U-DEC      3  5:00  \n",
      "4       win  KO/TKO      2  4:52  \n",
      "...     ...     ...    ...   ...  \n",
      "7901    win  KO/TKO      1  0:59  \n",
      "7902    win     SUB      1  1:49  \n",
      "7903    win     SUB      1  2:18  \n",
      "7904    win  KO/TKO      1  4:20  \n",
      "7905    win  KO/TKO      1  0:26  \n",
      "\n",
      "[7906 rows x 7 columns]\n"
     ]
    }
   ],
   "source": [
    "print(df)"
   ]
  },
  {
   "cell_type": "code",
   "execution_count": 14,
   "metadata": {},
   "outputs": [
    {
     "name": "stdout",
     "output_type": "stream",
     "text": [
      "     Unnamed: 0                                     Event          Date\n",
      "0             0             UFC 313: Pereira vs. Ankalaev   Mar 8, 2025\n",
      "1             1       UFC Fight Night: Kape vs. Almabayev   Mar 1, 2025\n",
      "2             2          UFC Fight Night: Cejudo vs. Song  Feb 22, 2025\n",
      "3             3  UFC Fight Night: Cannonier vs. Rodrigues  Feb 15, 2025\n",
      "4             4      UFC 312: du Plessis vs. Strickland 2   Feb 8, 2025\n",
      "..          ...                                       ...           ...\n",
      "728         728            UFC 5: The Return of the Beast   Apr 7, 1995\n",
      "729         729            UFC 4: Revenge of the Warriors  Dec 16, 1994\n",
      "730         730                 UFC 3: The American Dream   Sep 9, 1994\n",
      "731         731                         UFC 2: No Way Out  Mar 11, 1994\n",
      "732         732                      UFC 1: The Beginning  Nov 12, 1993\n",
      "\n",
      "[733 rows x 3 columns]\n"
     ]
    }
   ],
   "source": [
    "datedf = pd.read_csv(\"../data/raw/ufc_event_date.csv\")\n",
    "print(datedf)"
   ]
  },
  {
   "cell_type": "code",
   "execution_count": 15,
   "metadata": {},
   "outputs": [
    {
     "name": "stdout",
     "output_type": "stream",
     "text": [
      "     Unnamed: 0                                     Event          Date\n",
      "0             0             UFC 313: Pereira vs. Ankalaev   Mar 8, 2025\n",
      "1             1       UFC Fight Night: Kape vs. Almabayev   Mar 1, 2025\n",
      "2             2          UFC Fight Night: Cejudo vs. Song  Feb 22, 2025\n",
      "3             3  UFC Fight Night: Cannonier vs. Rodrigues  Feb 15, 2025\n",
      "4             4      UFC 312: du Plessis vs. Strickland 2   Feb 8, 2025\n",
      "..          ...                                       ...           ...\n",
      "728         728            UFC 5: The Return of the Beast   Apr 7, 1995\n",
      "729         729            UFC 4: Revenge of the Warriors  Dec 16, 1994\n",
      "730         730                 UFC 3: The American Dream   Sep 9, 1994\n",
      "731         731                         UFC 2: No Way Out  Mar 11, 1994\n",
      "732         732                      UFC 1: The Beginning  Nov 12, 1993\n",
      "\n",
      "[733 rows x 3 columns]\n",
      "                              event         fighter_1         fighter_2  \\\n",
      "0     UFC 308: Topuria vs. Holloway      Ilia Topuria      Max Holloway   \n",
      "1     UFC 308: Topuria vs. Holloway   Khamzat Chimaev  Robert Whittaker   \n",
      "2     UFC 308: Topuria vs. Holloway  Magomed Ankalaev  Aleksandar Rakic   \n",
      "3     UFC 308: Topuria vs. Holloway     Lerone Murphy           Dan Ige   \n",
      "4     UFC 308: Topuria vs. Holloway   Shara Magomedov   Armen Petrosyan   \n",
      "...                             ...               ...               ...   \n",
      "7901           UFC 1: The Beginning    Gerard Gordeau      Kevin Rosier   \n",
      "7902           UFC 1: The Beginning      Ken Shamrock     Patrick Smith   \n",
      "7903           UFC 1: The Beginning      Royce Gracie     Art Jimmerson   \n",
      "7904           UFC 1: The Beginning      Kevin Rosier      Zane Frazier   \n",
      "7905           UFC 1: The Beginning    Gerard Gordeau        Teila Tuli   \n",
      "\n",
      "     result  method  round  time  \n",
      "0       win  KO/TKO      3  1:34  \n",
      "1       win     SUB      1  3:34  \n",
      "2       win   U-DEC      3  5:00  \n",
      "3       win   U-DEC      3  5:00  \n",
      "4       win  KO/TKO      2  4:52  \n",
      "...     ...     ...    ...   ...  \n",
      "7901    win  KO/TKO      1  0:59  \n",
      "7902    win     SUB      1  1:49  \n",
      "7903    win     SUB      1  2:18  \n",
      "7904    win  KO/TKO      1  4:20  \n",
      "7905    win  KO/TKO      1  0:26  \n",
      "\n",
      "[7906 rows x 7 columns]\n"
     ]
    }
   ],
   "source": [
    "print(datedf)\n",
    "print(df)"
   ]
  },
  {
   "cell_type": "code",
   "execution_count": 16,
   "metadata": {},
   "outputs": [],
   "source": [
    "datedf.rename(columns={\"Event\": \"event\", \"Date\": \"date\"}, inplace=True)"
   ]
  },
  {
   "cell_type": "code",
   "execution_count": 17,
   "metadata": {},
   "outputs": [],
   "source": [
    "df_merged = df.merge(datedf[['event', 'date']], on=\"event\", how=\"left\")\n"
   ]
  },
  {
   "cell_type": "code",
   "execution_count": 18,
   "metadata": {},
   "outputs": [],
   "source": [
    "df_merged['date'] = pd.to_datetime(df_merged['date'], errors='coerce')"
   ]
  },
  {
   "cell_type": "code",
   "execution_count": 19,
   "metadata": {},
   "outputs": [
    {
     "name": "stdout",
     "output_type": "stream",
     "text": [
      "                              event         fighter_1         fighter_2  \\\n",
      "0     UFC 308: Topuria vs. Holloway      Ilia Topuria      Max Holloway   \n",
      "1     UFC 308: Topuria vs. Holloway   Khamzat Chimaev  Robert Whittaker   \n",
      "2     UFC 308: Topuria vs. Holloway  Magomed Ankalaev  Aleksandar Rakic   \n",
      "3     UFC 308: Topuria vs. Holloway     Lerone Murphy           Dan Ige   \n",
      "4     UFC 308: Topuria vs. Holloway   Shara Magomedov   Armen Petrosyan   \n",
      "...                             ...               ...               ...   \n",
      "7911           UFC 1: The Beginning    Gerard Gordeau      Kevin Rosier   \n",
      "7912           UFC 1: The Beginning      Ken Shamrock     Patrick Smith   \n",
      "7913           UFC 1: The Beginning      Royce Gracie     Art Jimmerson   \n",
      "7914           UFC 1: The Beginning      Kevin Rosier      Zane Frazier   \n",
      "7915           UFC 1: The Beginning    Gerard Gordeau        Teila Tuli   \n",
      "\n",
      "     result  method  round  time       date  \n",
      "0       win  KO/TKO      3  1:34 2024-10-26  \n",
      "1       win     SUB      1  3:34 2024-10-26  \n",
      "2       win   U-DEC      3  5:00 2024-10-26  \n",
      "3       win   U-DEC      3  5:00 2024-10-26  \n",
      "4       win  KO/TKO      2  4:52 2024-10-26  \n",
      "...     ...     ...    ...   ...        ...  \n",
      "7911    win  KO/TKO      1  0:59 1993-11-12  \n",
      "7912    win     SUB      1  1:49 1993-11-12  \n",
      "7913    win     SUB      1  2:18 1993-11-12  \n",
      "7914    win  KO/TKO      1  4:20 1993-11-12  \n",
      "7915    win  KO/TKO      1  0:26 1993-11-12  \n",
      "\n",
      "[7916 rows x 8 columns]\n"
     ]
    }
   ],
   "source": [
    "print(df_merged)"
   ]
  },
  {
   "cell_type": "code",
   "execution_count": 21,
   "metadata": {},
   "outputs": [
    {
     "name": "stdout",
     "output_type": "stream",
     "text": [
      "                              event       date         fighter_1  \\\n",
      "0     UFC 308: Topuria vs. Holloway 2024-10-26      Ilia Topuria   \n",
      "1     UFC 308: Topuria vs. Holloway 2024-10-26   Khamzat Chimaev   \n",
      "2     UFC 308: Topuria vs. Holloway 2024-10-26  Magomed Ankalaev   \n",
      "3     UFC 308: Topuria vs. Holloway 2024-10-26     Lerone Murphy   \n",
      "4     UFC 308: Topuria vs. Holloway 2024-10-26   Shara Magomedov   \n",
      "...                             ...        ...               ...   \n",
      "7911           UFC 1: The Beginning 1993-11-12    Gerard Gordeau   \n",
      "7912           UFC 1: The Beginning 1993-11-12      Ken Shamrock   \n",
      "7913           UFC 1: The Beginning 1993-11-12      Royce Gracie   \n",
      "7914           UFC 1: The Beginning 1993-11-12      Kevin Rosier   \n",
      "7915           UFC 1: The Beginning 1993-11-12    Gerard Gordeau   \n",
      "\n",
      "             fighter_2 result  method  round  time  \n",
      "0         Max Holloway    win  KO/TKO      3  1:34  \n",
      "1     Robert Whittaker    win     SUB      1  3:34  \n",
      "2     Aleksandar Rakic    win   U-DEC      3  5:00  \n",
      "3              Dan Ige    win   U-DEC      3  5:00  \n",
      "4      Armen Petrosyan    win  KO/TKO      2  4:52  \n",
      "...                ...    ...     ...    ...   ...  \n",
      "7911      Kevin Rosier    win  KO/TKO      1  0:59  \n",
      "7912     Patrick Smith    win     SUB      1  1:49  \n",
      "7913     Art Jimmerson    win     SUB      1  2:18  \n",
      "7914      Zane Frazier    win  KO/TKO      1  4:20  \n",
      "7915        Teila Tuli    win  KO/TKO      1  0:26  \n",
      "\n",
      "[7916 rows x 8 columns]\n"
     ]
    }
   ],
   "source": [
    "df_merged = df_merged.loc[:, [\"event\", \"date\", \"fighter_1\", \"fighter_2\", \"result\", \"method\", \"round\", \"time\"]]\n",
    "print(df_merged)"
   ]
  },
  {
   "cell_type": "code",
   "execution_count": 22,
   "metadata": {},
   "outputs": [],
   "source": [
    "df_merged.to_csv(\"../data/processed/ufc_fights_processed.csv\")"
   ]
  },
  {
   "cell_type": "code",
   "execution_count": null,
   "metadata": {},
   "outputs": [],
   "source": []
  }
 ],
 "metadata": {
  "kernelspec": {
   "display_name": "Python 3",
   "language": "python",
   "name": "python3"
  },
  "language_info": {
   "codemirror_mode": {
    "name": "ipython",
    "version": 3
   },
   "file_extension": ".py",
   "mimetype": "text/x-python",
   "name": "python",
   "nbconvert_exporter": "python",
   "pygments_lexer": "ipython3",
   "version": "3.10.12"
  }
 },
 "nbformat": 4,
 "nbformat_minor": 2
}
