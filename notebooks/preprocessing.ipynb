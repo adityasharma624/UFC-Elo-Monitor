{
 "cells": [
  {
   "cell_type": "code",
   "execution_count": 39,
   "metadata": {},
   "outputs": [],
   "source": [
    "import pandas as pd\n",
    "from unidecode import unidecode"
   ]
  },
  {
   "cell_type": "code",
   "execution_count": 40,
   "metadata": {},
   "outputs": [],
   "source": [
    "df_fight = pd.read_csv(\"../data/raw/ufc_fights_historical_data.csv\")\n",
    "df_event = pd.read_csv(\"../data/raw/ufc_event_date.csv\")"
   ]
  },
  {
   "cell_type": "code",
   "execution_count": 41,
   "metadata": {},
   "outputs": [
    {
     "name": "stdout",
     "output_type": "stream",
     "text": [
      "                                        event                date\n",
      "0               UFC 313: Pereira vs. Ankalaev      March 08, 2025\n",
      "1         UFC Fight Night: Kape vs. Almabayev      March 01, 2025\n",
      "2            UFC Fight Night: Cejudo vs. Song   February 22, 2025\n",
      "3    UFC Fight Night: Cannonier vs. Rodrigues   February 15, 2025\n",
      "4        UFC 312: Du Plessis vs. Strickland 2   February 08, 2025\n",
      "..                                        ...                 ...\n",
      "718                UFC 6: Clash of the Titans       July 14, 1995\n",
      "719            UFC 5: The Return of the Beast      April 07, 1995\n",
      "720            UFC 4: Revenge of the Warriors   December 16, 1994\n",
      "721                 UFC 3: The American Dream  September 09, 1994\n",
      "722                         UFC 2: No Way Out      March 11, 1994\n",
      "\n",
      "[723 rows x 2 columns]\n"
     ]
    }
   ],
   "source": [
    "df_event.rename(columns={\"Event\":\"event\", \"Date\":\"date\"}, inplace=True)\n",
    "df_event.reset_index(drop=True)\n",
    "df_event = df_event.iloc[:,1:]\n",
    "print(df_event)"
   ]
  },
  {
   "cell_type": "code",
   "execution_count": 42,
   "metadata": {},
   "outputs": [],
   "source": [
    "def normalizetext(text):\n",
    "    return unidecode(text)\n",
    "df_event[\"event\"] = df_event[\"event\"].apply(normalizetext)\n",
    "df_fight[\"event\"] = df_fight[\"event\"].apply(normalizetext)\n"
   ]
  },
  {
   "cell_type": "code",
   "execution_count": 48,
   "metadata": {},
   "outputs": [
    {
     "data": {
      "text/plain": [
       "event        0\n",
       "fighter_1    0\n",
       "fighter_2    0\n",
       "result       0\n",
       "method       0\n",
       "round        0\n",
       "time         0\n",
       "date         8\n",
       "dtype: int64"
      ]
     },
     "execution_count": 48,
     "metadata": {},
     "output_type": "execute_result"
    }
   ],
   "source": [
    "merged = df_fight.merge(df_event, how=\"left\", on=\"event\")\n",
    "merged.isnull().sum()"
   ]
  },
  {
   "cell_type": "code",
   "execution_count": 49,
   "metadata": {},
   "outputs": [
    {
     "name": "stdout",
     "output_type": "stream",
     "text": [
      "                              event         fighter_1         fighter_2  \\\n",
      "0     UFC 308: Topuria vs. Holloway      Ilia Topuria      Max Holloway   \n",
      "1     UFC 308: Topuria vs. Holloway   Khamzat Chimaev  Robert Whittaker   \n",
      "2     UFC 308: Topuria vs. Holloway  Magomed Ankalaev  Aleksandar Rakic   \n",
      "3     UFC 308: Topuria vs. Holloway     Lerone Murphy           Dan Ige   \n",
      "4     UFC 308: Topuria vs. Holloway   Shara Magomedov   Armen Petrosyan   \n",
      "...                             ...               ...               ...   \n",
      "7901           UFC 1: The Beginning    Gerard Gordeau      Kevin Rosier   \n",
      "7902           UFC 1: The Beginning      Ken Shamrock     Patrick Smith   \n",
      "7903           UFC 1: The Beginning      Royce Gracie     Art Jimmerson   \n",
      "7904           UFC 1: The Beginning      Kevin Rosier      Zane Frazier   \n",
      "7905           UFC 1: The Beginning    Gerard Gordeau        Teila Tuli   \n",
      "\n",
      "     result                              method  round  time              date  \n",
      "0       win                              KO/TKO      3  1:34  October 26, 2024  \n",
      "1       win                                 SUB      1  3:34  October 26, 2024  \n",
      "2       win                               U-DEC      3  5:00  October 26, 2024  \n",
      "3       win                               U-DEC      3  5:00  October 26, 2024  \n",
      "4       win                              KO/TKO      2  4:52  October 26, 2024  \n",
      "...     ...                                 ...    ...   ...               ...  \n",
      "7901    win                              KO/TKO      1  0:59               NaN  \n",
      "7902    win  SUB\\n\\n      \\n\\n        Heel Hook      1  1:49               NaN  \n",
      "7903    win      SUB\\n\\n      \\n\\n        Other      1  2:18               NaN  \n",
      "7904    win                              KO/TKO      1  4:20               NaN  \n",
      "7905    win    KO/TKO\\n\\n      \\n\\n        Kick      1  0:26               NaN  \n",
      "\n",
      "[7906 rows x 8 columns]\n"
     ]
    }
   ],
   "source": [
    "print(merged)"
   ]
  },
  {
   "cell_type": "code",
   "execution_count": null,
   "metadata": {},
   "outputs": [],
   "source": [
    "merged[\"method\"] = merged[\"method\"].str.split(\"\\n\").str[0]\n",
    "merged[\"date\"].fillna(\"November 12, 1993\", inplace=True)"
   ]
  },
  {
   "cell_type": "code",
   "execution_count": null,
   "metadata": {},
   "outputs": [],
   "source": [
    "new_order = [\"event\", \"date\", \"fighter_1\", \"fighter_2\", \"result\", \"method\", \"round\", \"time\"]\n",
    "merged = merged[new_order]"
   ]
  },
  {
   "cell_type": "code",
   "execution_count": 69,
   "metadata": {},
   "outputs": [],
   "source": [
    "merged[\"date\"] = pd.to_datetime(merged[\"date\"]).dt.strftime(\"%Y-%m-%d\")\n",
    "merged.to_csv(\"../data/processed/processed_ufc.csv\")"
   ]
  }
 ],
 "metadata": {
  "kernelspec": {
   "display_name": "Python 3",
   "language": "python",
   "name": "python3"
  },
  "language_info": {
   "codemirror_mode": {
    "name": "ipython",
    "version": 3
   },
   "file_extension": ".py",
   "mimetype": "text/x-python",
   "name": "python",
   "nbconvert_exporter": "python",
   "pygments_lexer": "ipython3",
   "version": "3.10.12"
  }
 },
 "nbformat": 4,
 "nbformat_minor": 2
}
