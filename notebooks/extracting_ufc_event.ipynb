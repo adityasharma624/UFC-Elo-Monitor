{
 "cells": [
  {
   "cell_type": "code",
   "execution_count": 1,
   "metadata": {},
   "outputs": [],
   "source": [
    "import requests\n",
    "from bs4 import BeautifulSoup\n",
    "import pandas as pd"
   ]
  },
  {
   "cell_type": "code",
   "execution_count": 5,
   "metadata": {},
   "outputs": [],
   "source": [
    "url = \"http://ufcstats.com/statistics/events/completed?page=all\"\n",
    "data = requests.get(url).text\n",
    "soup = BeautifulSoup(data, 'html.parser')"
   ]
  },
  {
   "cell_type": "code",
   "execution_count": 7,
   "metadata": {},
   "outputs": [],
   "source": [
    "event = []\n",
    "for event_block in soup.find_all(\"tr\", class_=\"b-statistics__table-row\"):\n",
    "    event_link_tag = event_block.find(\"a\", class_=\"b-link b-link_style_black\")\n",
    "    date_tag = event_block.find(\"span\", class_=\"b-statistics__date\")\n",
    "\n",
    "    if event_link_tag and date_tag:\n",
    "        event_name = event_link_tag.text.strip()\n",
    "        event_link = event_link_tag[\"href\"]\n",
    "        event_date = date_tag.text.strip()\n",
    "        event.append((event_name, event_date))\n",
    "\n",
    "df = pd.DataFrame(event, columns = [\"event\", \"date\"])\n",
    "df.to_csv(\"../data/raw/ufc_event_date.csv\")"
   ]
  }
 ],
 "metadata": {
  "kernelspec": {
   "display_name": "Python 3",
   "language": "python",
   "name": "python3"
  },
  "language_info": {
   "codemirror_mode": {
    "name": "ipython",
    "version": 3
   },
   "file_extension": ".py",
   "mimetype": "text/x-python",
   "name": "python",
   "nbconvert_exporter": "python",
   "pygments_lexer": "ipython3",
   "version": "3.10.12"
  }
 },
 "nbformat": 4,
 "nbformat_minor": 2
}
