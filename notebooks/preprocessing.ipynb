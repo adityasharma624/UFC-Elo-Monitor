{
 "cells": [
  {
   "cell_type": "code",
   "execution_count": 1,
   "metadata": {},
   "outputs": [],
   "source": [
    "import pandas as pd\n",
    "from unidecode import unidecode"
   ]
  },
  {
   "cell_type": "code",
   "execution_count": 2,
   "metadata": {},
   "outputs": [],
   "source": [
    "df_fight = pd.read_csv(\"../data/raw/ufc_fights_historical_data.csv\")\n",
    "df_event = pd.read_csv(\"../data/raw/ufc_event_date.csv\")"
   ]
  },
  {
   "cell_type": "code",
   "execution_count": 3,
   "metadata": {},
   "outputs": [
    {
     "name": "stdout",
     "output_type": "stream",
     "text": [
      "                                        event                date\n",
      "0               UFC 313: Pereira vs. Ankalaev      March 08, 2025\n",
      "1         UFC Fight Night: Kape vs. Almabayev      March 01, 2025\n",
      "2            UFC Fight Night: Cejudo vs. Song   February 22, 2025\n",
      "3    UFC Fight Night: Cannonier vs. Rodrigues   February 15, 2025\n",
      "4        UFC 312: Du Plessis vs. Strickland 2   February 08, 2025\n",
      "..                                        ...                 ...\n",
      "718                UFC 6: Clash of the Titans       July 14, 1995\n",
      "719            UFC 5: The Return of the Beast      April 07, 1995\n",
      "720            UFC 4: Revenge of the Warriors   December 16, 1994\n",
      "721                 UFC 3: The American Dream  September 09, 1994\n",
      "722                         UFC 2: No Way Out      March 11, 1994\n",
      "\n",
      "[723 rows x 2 columns]\n"
     ]
    }
   ],
   "source": [
    "df_event.rename(columns={\"Event\":\"event\", \"Date\":\"date\"}, inplace=True)\n",
    "df_event.reset_index(drop=True)\n",
    "df_event = df_event.iloc[:,1:]\n",
    "print(df_event)"
   ]
  },
  {
   "cell_type": "code",
   "execution_count": 4,
   "metadata": {},
   "outputs": [],
   "source": [
    "def normalizetext(text):\n",
    "    return unidecode(text)\n",
    "df_event[\"event\"] = df_event[\"event\"].apply(normalizetext)\n",
    "df_fight[\"event\"] = df_fight[\"event\"].apply(normalizetext)\n",
    "df_fight[\"fighter_1\"] = df_fight[\"fighter_1\"].apply(normalizetext)\n",
    "df_fight[\"fighter_2\"] = df_fight[\"fighter_2\"].apply(normalizetext)"
   ]
  },
  {
   "cell_type": "code",
   "execution_count": 5,
   "metadata": {},
   "outputs": [
    {
     "name": "stderr",
     "output_type": "stream",
     "text": [
      "/tmp/ipykernel_25342/3029134743.py:4: FutureWarning: A value is trying to be set on a copy of a DataFrame or Series through chained assignment using an inplace method.\n",
      "The behavior will change in pandas 3.0. This inplace method will never work because the intermediate object on which we are setting values always behaves as a copy.\n",
      "\n",
      "For example, when doing 'df[col].method(value, inplace=True)', try using 'df.method({col: value}, inplace=True)' or df[col] = df[col].method(value) instead, to perform the operation inplace on the original object.\n",
      "\n",
      "\n",
      "  merged[\"date\"].fillna(\"November 12, 1993\", inplace=True)\n"
     ]
    }
   ],
   "source": [
    "merged = df_fight.merge(df_event, how=\"left\", on=\"event\")\n",
    "merged[\"method\"] = merged[\"method\"].str.split(\"\\n\").str[0]\n",
    "merged[\"result\"] = merged[\"result\"].str.split(\"\\n\").str[0]\n",
    "merged[\"date\"].fillna(\"November 12, 1993\", inplace=True)"
   ]
  },
  {
   "cell_type": "code",
   "execution_count": 6,
   "metadata": {},
   "outputs": [],
   "source": [
    "new_order = [\"event\", \"date\", \"fighter_1\", \"fighter_2\", \"result\", \"method\", \"round\", \"time\"]\n",
    "merged = merged[new_order]"
   ]
  },
  {
   "cell_type": "code",
   "execution_count": 7,
   "metadata": {},
   "outputs": [],
   "source": [
    "merged[\"date\"] = pd.to_datetime(merged[\"date\"]).dt.strftime(\"%Y-%m-%d\")\n",
    "def lowercase(text):\n",
    "    return text.lower()\n",
    "merged[\"result\"] = merged[\"result\"].apply(lowercase)"
   ]
  },
  {
   "cell_type": "code",
   "execution_count": 8,
   "metadata": {},
   "outputs": [],
   "source": [
    "merged.to_csv(\"../data/processed/processed_ufc.csv\")"
   ]
  }
 ],
 "metadata": {
  "kernelspec": {
   "display_name": "Python 3",
   "language": "python",
   "name": "python3"
  },
  "language_info": {
   "codemirror_mode": {
    "name": "ipython",
    "version": 3
   },
   "file_extension": ".py",
   "mimetype": "text/x-python",
   "name": "python",
   "nbconvert_exporter": "python",
   "pygments_lexer": "ipython3",
   "version": "3.10.12"
  }
 },
 "nbformat": 4,
 "nbformat_minor": 2
}
